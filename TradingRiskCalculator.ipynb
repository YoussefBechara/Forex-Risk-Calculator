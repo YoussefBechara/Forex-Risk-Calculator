{
  "nbformat": 4,
  "nbformat_minor": 0,
  "metadata": {
    "colab": {
      "provenance": []
    },
    "kernelspec": {
      "name": "python3",
      "display_name": "Python 3"
    },
    "language_info": {
      "name": "python"
    }
  },
  "cells": [
    {
      "cell_type": "code",
      "execution_count": 2,
      "metadata": {
        "colab": {
          "base_uri": "https://localhost:8080/"
        },
        "id": "SqsIu7WhZzAa",
        "outputId": "6de35837-4c6b-4871-b616-57ef54111eff"
      },
      "outputs": [
        {
          "output_type": "stream",
          "name": "stdout",
          "text": [
            "Trading Risk Calculator\n",
            "Enter Account Balance: 100\n",
            "Enter Account Equity: 90\n",
            "Enter Account Leverage: 100\n",
            "Enter Account Currency: usd\n",
            "Enter Lot Size: 0.01\n",
            "Enter Ticker Symbol: EUR/USD\n",
            "\n",
            "CALCULATION RESULTS\n",
            "Balance: 100.00 USD\n",
            "Equity: 90.00 USD\n",
            "Margin Required: 10.29 USD\n",
            "Free Margin: 79.71 USD\n",
            "Price (EUR/USD): 1.0294\n",
            "\n",
            "RISK PROJECTIONS\n",
            "5% Loss: 38.53\n",
            "10% Loss: -12.94\n",
            "20% Loss: -115.89\n",
            "5% Gain: 141.47\n",
            "10% Gain: 192.94\n",
            "20% Gain: 295.89\n"
          ]
        },
        {
          "output_type": "stream",
          "name": "stderr",
          "text": [
            "<ipython-input-2-f80fa16c17e1>:17: FutureWarning: Series.__getitem__ treating keys as positions is deprecated. In a future version, integer keys will always be treated as labels (consistent with DataFrame behavior). To access a value by position, use `ser.iloc[pos]`\n",
            "  price = data.history(period=\"1d\")['Close'][0]\n"
          ]
        }
      ],
      "source": [
        "import yfinance as yf\n",
        "\n",
        "class TradingRiskCalculator:\n",
        "    def __init__(self):\n",
        "        self.balance = 0\n",
        "        self.equity = 0\n",
        "        self.leverage = 0\n",
        "        self.acc_currency = \"\"\n",
        "        self.lot_size = 0\n",
        "        self.ticker_symbol = \"\"\n",
        "\n",
        "    def get_ticker_info(self, symbol):\n",
        "        if '/' in symbol:\n",
        "            symbol = symbol.replace(\"/\", \"\") + \"=X\"\n",
        "        try:\n",
        "            data = yf.Ticker(symbol)\n",
        "            price = data.history(period=\"1d\")['Close'][0]\n",
        "            return price\n",
        "        except Exception:\n",
        "            return None\n",
        "\n",
        "    def calculate_forex_money_required(self, lot_size, pair_value, acc_currency, pair_symbol):\n",
        "        money_required_in_pair_currency = lot_size * 100000 * pair_value\n",
        "        if acc_currency in pair_symbol:\n",
        "            return money_required_in_pair_currency\n",
        "        exchange_rate = self.get_ticker_info(f\"{pair_symbol[:3]}/{acc_currency}\")\n",
        "        return money_required_in_pair_currency * exchange_rate if exchange_rate else None\n",
        "\n",
        "    def calculate_stock_money_required(self, shares, price):\n",
        "        return shares * price\n",
        "\n",
        "    def calculate_projections(self, initial_equity, position_size):\n",
        "        scenarios = {\n",
        "            \"5% Loss\": -0.05,\n",
        "            \"10% Loss\": -0.10,\n",
        "            \"20% Loss\": -0.20,\n",
        "            \"5% Gain\": 0.05,\n",
        "            \"10% Gain\": 0.10,\n",
        "            \"20% Gain\": 0.20\n",
        "        }\n",
        "        return {scenario: initial_equity + position_size * pct_change for scenario, pct_change in scenarios.items()}\n",
        "\n",
        "    def run(self):\n",
        "        print(\"Trading Risk Calculator\")\n",
        "        self.balance = float(input(\"Enter Account Balance: \"))\n",
        "        self.equity = float(input(\"Enter Account Equity: \"))\n",
        "        self.leverage = float(input(\"Enter Account Leverage: \"))\n",
        "        self.acc_currency = input(\"Enter Account Currency: \").upper()\n",
        "        self.lot_size = float(input(\"Enter Lot Size: \"))\n",
        "        self.ticker_symbol = input(\"Enter Ticker Symbol: \").upper()\n",
        "\n",
        "        current_price = self.get_ticker_info(self.ticker_symbol)\n",
        "        if not current_price:\n",
        "            print(\"Failed to retrieve ticker information.\")\n",
        "            return\n",
        "\n",
        "        if \"/\" in self.ticker_symbol:\n",
        "            money_required = self.calculate_forex_money_required(self.lot_size, current_price, self.acc_currency, self.ticker_symbol)\n",
        "        else:\n",
        "            shares = self.lot_size * 100\n",
        "            money_required = self.calculate_stock_money_required(shares, current_price)\n",
        "\n",
        "        if money_required is None:\n",
        "            print(\"Error in calculating money required.\")\n",
        "            return\n",
        "\n",
        "        margin_required = money_required / self.leverage\n",
        "        projections = self.calculate_projections(self.equity, money_required)\n",
        "\n",
        "        print(\"\\nCALCULATION RESULTS\")\n",
        "        print(f\"Balance: {self.balance:,.2f} {self.acc_currency}\")\n",
        "        print(f\"Equity: {self.equity:,.2f} {self.acc_currency}\")\n",
        "        print(f\"Margin Required: {margin_required:,.2f} {self.acc_currency}\")\n",
        "        print(f\"Free Margin: {self.equity - margin_required:,.2f} {self.acc_currency}\")\n",
        "        print(f\"Price ({self.ticker_symbol}): {current_price:.4f}\")\n",
        "\n",
        "        print(\"\\nRISK PROJECTIONS\")\n",
        "        for scenario, new_equity in projections.items():\n",
        "            print(f\"{scenario}: {new_equity:,.2f}\")\n",
        "\n",
        "        if margin_required > self.equity:\n",
        "            print(\"\\n! MARGIN EXCEEDS EQUITY !\")\n",
        "        if margin_required > self.balance * 0.5:\n",
        "            print(\"\\n! POSITION > 50% BALANCE !\")\n",
        "\n",
        "if __name__ == \"__main__\":\n",
        "    calculator = TradingRiskCalculator()\n",
        "    calculator.run()\n"
      ]
    },
    {
      "cell_type": "code",
      "source": [],
      "metadata": {
        "id": "BoC2jMJDfsxR"
      },
      "execution_count": null,
      "outputs": []
    }
  ]
}